{
 "cells": [
  {
   "cell_type": "code",
   "execution_count": 1,
   "id": "8f555e15-49c8-475e-a578-e6ca02493f9a",
   "metadata": {},
   "outputs": [],
   "source": [
    "import scipy.stats as stat\n",
    "import numpy as np"
   ]
  },
  {
   "cell_type": "markdown",
   "id": "cc3174bb-ede3-47d8-a655-e2eb44b1b9af",
   "metadata": {},
   "source": [
    "##No of Hours Students study daily on a weekly basis"
   ]
  },
  {
   "cell_type": "code",
   "execution_count": 5,
   "id": "4b06bde2-bfcc-4b0a-83d4-a93fbab0d604",
   "metadata": {},
   "outputs": [],
   "source": [
    "#monday,tuesday,wednesday,thursday,friday,saturday,sunday\n",
    "expected_data=[8,6,7,9,6,9,7]\n",
    "observed_data=[7,8,6,9,9,6,7]"
   ]
  },
  {
   "cell_type": "code",
   "execution_count": 7,
   "id": "642d5230-a725-491a-85bd-b986cf734955",
   "metadata": {},
   "outputs": [
    {
     "data": {
      "text/plain": [
       "(52, 52)"
      ]
     },
     "execution_count": 7,
     "metadata": {},
     "output_type": "execute_result"
    }
   ],
   "source": [
    "sum(expected_data),sum(observed_data)"
   ]
  },
  {
   "cell_type": "code",
   "execution_count": 8,
   "id": "4ba59366-21c1-4c00-a15f-843de1f7e4f6",
   "metadata": {},
   "outputs": [],
   "source": [
    "#Chi Square Goodness of fit\n",
    "chisquare_test_statistics,p_value=stat.chisquare(observed_data,expected_data)"
   ]
  },
  {
   "cell_type": "code",
   "execution_count": 10,
   "id": "84aba05d-7de2-494f-934b-f49d0f66967c",
   "metadata": {},
   "outputs": [
    {
     "name": "stdout",
     "output_type": "stream",
     "text": [
      "3.4345238095238093\n",
      "0.7526596580922865\n"
     ]
    }
   ],
   "source": [
    "print(chisquare_test_statistics)\n",
    "print(p_value)"
   ]
  },
  {
   "cell_type": "code",
   "execution_count": 11,
   "id": "41670631-04de-4f2a-be4b-d30bcc8b7599",
   "metadata": {},
   "outputs": [],
   "source": [
    "#find the critical value\n",
    "significance=0.05\n",
    "dof=len(observed_data)-1\n",
    "critical_value=stat.chi2.ppf(1-significance,dof) #stat.chi2.ppf(confidence interval,degree of freedom)"
   ]
  },
  {
   "cell_type": "code",
   "execution_count": 12,
   "id": "1320ef09-046f-46d4-8579-c4db72c0bf6e",
   "metadata": {},
   "outputs": [
    {
     "data": {
      "text/plain": [
       "12.591587243743977"
      ]
     },
     "execution_count": 12,
     "metadata": {},
     "output_type": "execute_result"
    }
   ],
   "source": [
    "critical_value"
   ]
  },
  {
   "cell_type": "code",
   "execution_count": 13,
   "id": "4169f783-f597-4b0c-9ec0-307688c23f0a",
   "metadata": {},
   "outputs": [
    {
     "name": "stdout",
     "output_type": "stream",
     "text": [
      "Accept the null hypothesis.\n"
     ]
    }
   ],
   "source": [
    "if chisquare_test_statistics>critical_value:\n",
    "    print(\"Reject the null hypothesis.\")\n",
    "else:\n",
    "    print(\"Accept the null hypothesis.\")"
   ]
  },
  {
   "cell_type": "code",
   "execution_count": 14,
   "id": "5c18e580-a940-453c-8547-1b7fff606ff1",
   "metadata": {},
   "outputs": [],
   "source": [
    "#expected and observed datasets are matching...this is conclusion"
   ]
  },
  {
   "cell_type": "code",
   "execution_count": null,
   "id": "45d65c36-ce0e-4a03-8650-b8708bc42e1c",
   "metadata": {},
   "outputs": [],
   "source": []
  }
 ],
 "metadata": {
  "kernelspec": {
   "display_name": "Python 3 (ipykernel)",
   "language": "python",
   "name": "python3"
  },
  "language_info": {
   "codemirror_mode": {
    "name": "ipython",
    "version": 3
   },
   "file_extension": ".py",
   "mimetype": "text/x-python",
   "name": "python",
   "nbconvert_exporter": "python",
   "pygments_lexer": "ipython3",
   "version": "3.10.8"
  }
 },
 "nbformat": 4,
 "nbformat_minor": 5
}
